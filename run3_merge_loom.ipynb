{
 "cells": [
  {
   "cell_type": "code",
   "execution_count": 1,
   "id": "4024e179",
   "metadata": {},
   "outputs": [],
   "source": [
    "import numpy as np\n",
    "import pandas as pd\n",
    "import matplotlib\n",
    "import matplotlib.pyplot as plt\n",
    "import loompy\n",
    "import velocyto as vcy"
   ]
  },
  {
   "cell_type": "code",
   "execution_count": 2,
   "id": "04c5f8d8",
   "metadata": {},
   "outputs": [
    {
     "name": "stderr",
     "output_type": "stream",
     "text": [
      "WARNING:root:╭── 'batch_scan_layers' is deprecated. Use 'scan' instead\n",
      "WARNING:root:╰──> at /work/miniconda3/lib/python3.9/site-packages/loompy/loompy.py, line 471\n"
     ]
    }
   ],
   "source": [
    "# merged dataの作成\n",
    "loompy.combine([\"1DAE/velocyto/1DAE.loom\",\"3DAE/velocyto/3DAE.loom\"], \"aggr/merged.loom\", key=\"Accession\")"
   ]
  },
  {
   "cell_type": "code",
   "execution_count": 3,
   "id": "57204cf6",
   "metadata": {},
   "outputs": [
    {
     "data": {
      "text/plain": [
       "array([[0.55670666, 0.        , 2.34333124, ..., 0.        , 2.45104063,\n",
       "        3.26617727],\n",
       "       [0.55670666, 0.        , 0.        , ..., 0.        , 0.        ,\n",
       "        0.        ],\n",
       "       [0.        , 0.        , 0.        , ..., 0.        , 0.        ,\n",
       "        0.        ],\n",
       "       ...,\n",
       "       [1.93562788, 7.42922768, 2.34333124, ..., 0.        , 3.95006056,\n",
       "        4.74753822],\n",
       "       [0.55670666, 6.21795304, 0.        , ..., 0.        , 1.9601877 ,\n",
       "        3.98615311],\n",
       "       [0.        , 0.        , 0.        , ..., 0.        , 0.        ,\n",
       "        0.        ]])"
      ]
     },
     "execution_count": 3,
     "metadata": {},
     "output_type": "execute_result"
    }
   ],
   "source": [
    "vlm = vcy.VelocytoLoom(\"aggr/merged.loom\")\n",
    "vlm.normalize(\"S\", size=True, log=True)  # normalization and log transformation\n",
    "vlm.S_norm  # contains log normalized"
   ]
  },
  {
   "cell_type": "code",
   "execution_count": 4,
   "id": "ac4ec2cc",
   "metadata": {},
   "outputs": [
    {
     "data": {
      "image/png": "[encoded data removed]",
      "text/plain": [
       "<Figure size 230.4x360 with 1 Axes>"
      ]
     },
     "metadata": {
      "needs_background": "light"
     },
     "output_type": "display_data"
    }
   ],
   "source": [
    "vlm.plot_fractions()"
   ]
  }
 ],
 "metadata": {
  "kernelspec": {
   "display_name": "Python 3 (ipykernel)",
   "language": "python",
   "name": "python3"
  },
  "language_info": {
   "codemirror_mode": {
    "name": "ipython",
    "version": 3
   },
   "file_extension": ".py",
   "mimetype": "text/x-python",
   "name": "python",
   "nbconvert_exporter": "python",
   "pygments_lexer": "ipython3",
   "version": "3.9.7"
  }
 },
 "nbformat": 4,
 "nbformat_minor": 5
}
